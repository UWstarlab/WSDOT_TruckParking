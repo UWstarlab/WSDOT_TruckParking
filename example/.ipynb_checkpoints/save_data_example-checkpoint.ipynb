{
 "cells": [
  {
   "cell_type": "markdown",
   "id": "0644295c",
   "metadata": {},
   "source": [
    "# Introduction"
   ]
  },
  {
   "cell_type": "markdown",
   "id": "a5e79989",
   "metadata": {},
   "source": [
    "This notebook will walk through how to collect data from sensor. Two sites are being used in pilot project: \n",
    "* #45 Nisqually weight station (37 slots) \n",
    "* #46 Scatter Creek Rest area (12 slots)\n",
    "\n",
    "Output consits of two types\n",
    "* JSON file\n",
    "* text file"
   ]
  },
  {
   "cell_type": "markdown",
   "id": "fc7f6470",
   "metadata": {},
   "source": [
    "## 0. Set up\n",
    "This section imports neccesary packages and set up variable"
   ]
  },
  {
   "cell_type": "code",
   "execution_count": 1,
   "id": "58f65459",
   "metadata": {},
   "outputs": [],
   "source": [
    "# Username and Password for accessing vendor's server\n",
    "username = \"*****\"\n",
    "password = \"*****\"\n",
    "\n",
    "# UW team will send password seperately"
   ]
  },
  {
   "cell_type": "code",
   "execution_count": 2,
   "id": "417d5ddb",
   "metadata": {},
   "outputs": [],
   "source": [
    "# Set URL path to access vendor's server\n",
    "history_url = \"https://parking.sensysnetworks.net/snaps/dataservice/parkingHistory.xml\"\n",
    "current_url = \"https://parking.sensysnetworks.net/snaps/dataservice/parkingStatus.xml\""
   ]
  },
  {
   "cell_type": "code",
   "execution_count": 3,
   "id": "bbe2aa8a",
   "metadata": {},
   "outputs": [],
   "source": [
    "# Mouth to files path for json output: json file for #45 and #46\n",
    "json_file_name1 = \"./example_output/web_display_restarea.json\""
   ]
  },
  {
   "cell_type": "code",
   "execution_count": 4,
   "id": "bd77ee83",
   "metadata": {},
   "outputs": [],
   "source": [
    "# Mouth to folder path for text output:\n",
    "txt_file_folder = \"./example_output/data\""
   ]
  },
  {
   "cell_type": "code",
   "execution_count": 5,
   "id": "11a6765c",
   "metadata": {},
   "outputs": [],
   "source": [
    "# Import neccesary package\n",
    "import requests\n",
    "import xml.etree.ElementTree as et\n",
    "import datetime as dt\n",
    "import time\n",
    "import os\n",
    "import json"
   ]
  },
  {
   "cell_type": "markdown",
   "id": "1c2ac788",
   "metadata": {},
   "source": [
    "## 1. Get current parking data for a specific lot"
   ]
  },
  {
   "cell_type": "code",
   "execution_count": 6,
   "id": "d5679f7a",
   "metadata": {},
   "outputs": [],
   "source": [
    "def get_current_data(parking_id):\n",
    "    # Assemble a request\n",
    "    data = {'username': username, 'password': password, 'lotId': parking_id}\n",
    "    \n",
    "    r = requests.post(url=current_url, data=data)\n",
    "    root = et.fromstring(r.content)\n",
    "    gen = ((child.attrib['id'], child.attrib['state']) for child in root.iter('space'))\n",
    "    my_data = [child for child in gen]\n",
    "\n",
    "    # Output includes sensor_id, parking_status, time\n",
    "    return sorted(my_data, key=lambda x: int(x[0]))"
   ]
  },
  {
   "cell_type": "markdown",
   "id": "28acf1af",
   "metadata": {},
   "source": [
    "## 2. Write to text file"
   ]
  },
  {
   "cell_type": "code",
   "execution_count": 7,
   "id": "dda2743c",
   "metadata": {},
   "outputs": [],
   "source": [
    "def write_txt(data, ctime, parking_id):\n",
    "    txt_file_name = txt_file_folder + str(parking_id) + \"_\" + str(cur_time.year) + str(cur_time.month).zfill(2) + str(cur_time.day).zfill(2) + \".txt\"\n",
    "\n",
    "    with open(txt_file_name, 'a') as f:\n",
    "        f.write(\"*******************\\n\")\n",
    "        f.write(str(ctime.year) + str(ctime.month).zfill(2) + str(ctime.day).zfill(2) + str(ctime.hour).zfill(2) + str(ctime.minute).zfill(2) + '\\n')\n",
    "        for d in data:\n",
    "            f.write(d[0] + '_' + d[1] + '\\n')"
   ]
  },
  {
   "cell_type": "markdown",
   "id": "4e9f0cb4",
   "metadata": {},
   "source": [
    "## 3. Write to JSON file"
   ]
  },
  {
   "cell_type": "code",
   "execution_count": 8,
   "id": "4e2f1957",
   "metadata": {},
   "outputs": [],
   "source": [
    "def write_json(data, json_name):\n",
    "    entry = []\n",
    "    for child_id, child in enumerate(data, 101):\n",
    "        if child[1] == \"OCCUPIED\":\n",
    "            entry.append({\"id\": str(child_id), \"state\": \"O\"})\n",
    "        else:\n",
    "            entry.append({\"id\": str(child_id), \"state\": \"E\"})\n",
    "    json_obj = json.dumps(entry)\n",
    "    with open(json_name, 'w') as f:\n",
    "        f.write(json_obj)"
   ]
  },
  {
   "cell_type": "markdown",
   "id": "ac193f7c",
   "metadata": {},
   "source": [
    "## 4. Generate output\n",
    "Use site #45 for example"
   ]
  },
  {
   "cell_type": "code",
   "execution_count": 9,
   "id": "b9661857",
   "metadata": {},
   "outputs": [],
   "source": [
    "# Pulling Data\n",
    "cur_time = dt.datetime.now()\n",
    "park45 = get_current_data(parking_id=45)\n",
    "write_txt(data=park45, ctime=cur_time, parking_id=45)\n",
    "write_json(data=park45, json_name=json_file_name1)"
   ]
  },
  {
   "cell_type": "markdown",
   "id": "26862567",
   "metadata": {},
   "source": [
    "## 5. Preview output\n",
    "Name of the file is formatted as follow: data[siteID]\\_YYYYMMDD.txt\n",
    "\n",
    "Run below code to preview the output"
   ]
  },
  {
   "cell_type": "code",
   "execution_count": 10,
   "id": "97d3ecb7",
   "metadata": {},
   "outputs": [
    {
     "name": "stdout",
     "output_type": "stream",
     "text": [
      "Content of data45_20240114.txt:\n",
      "*******************\n",
      "202401142319\n",
      "5365_UNKNOWN\n",
      "5367_UNKNOWN\n",
      "5380_UNKNOWN\n",
      "5382_UNKNOWN\n",
      "5387_UNKNOWN\n",
      "5432_UNKNOWN\n",
      "5433_UNKNOWN\n",
      "5434_UNKNOWN\n",
      "5435_UNKNOWN\n",
      "5436_UNKNOWN\n",
      "5437_UNKNOWN\n",
      "5438_OCCUPIED\n",
      "5439_UNKNOWN\n",
      "5440_UNKNOWN\n",
      "5441_UNKNOWN\n",
      "5442_OCCUPIED\n",
      "5443_UNKNOWN\n",
      "5444_UNKNOWN\n",
      "5445_UNKNOWN\n",
      "5446_UNKNOWN\n",
      "5447_UNKNOWN\n",
      "5448_UNKNOWN\n",
      "5449_UNKNOWN\n",
      "5450_UNKNOWN\n",
      "5451_UNKNOWN\n",
      "5452_UNKNOWN\n",
      "5453_AVAILABLE\n",
      "5454_UNKNOWN\n",
      "5455_UNKNOWN\n",
      "5456_UNKNOWN\n",
      "5457_UNKNOWN\n",
      "5458_UNKNOWN\n",
      "5459_OCCUPIED\n",
      "5460_UNKNOWN\n",
      "5461_UNKNOWN\n",
      "5462_UNKNOWN\n",
      "5463_AVAILABLE\n",
      "\n",
      "\n",
      "\n"
     ]
    }
   ],
   "source": [
    "root = \"./example_output\"\n",
    "\n",
    "for path, subdirs, files in os.walk(root):\n",
    "    for name in files:\n",
    "        if name.endswith(\".txt\"):\n",
    "            file_path = os.path.join(path, name)\n",
    "            with open(file_path, 'r') as file:\n",
    "                content = file.read()\n",
    "                print(f\"Content of {name}:\")\n",
    "                print(content)\n",
    "                print(\"\\n\")"
   ]
  },
  {
   "cell_type": "markdown",
   "id": "d9a2c090",
   "metadata": {},
   "source": [
    "In automatically process, the data will be collected at every 30 second interval and append to the same text file in the same day. \n",
    "\n",
    "For demonstration purpose in this file, run the code below \"section 4. Generate output\" to pull current data and append to the exsiting file. Run the code below section \"5. Preview output\" to preview output with updated content."
   ]
  },
  {
   "cell_type": "markdown",
   "id": "48083ece",
   "metadata": {},
   "source": [
    "## Ending\n",
    "To delete output, remove # in the last line and run the following code:"
   ]
  },
  {
   "cell_type": "code",
   "execution_count": 11,
   "id": "e03c69d8",
   "metadata": {},
   "outputs": [],
   "source": [
    "root = \"./example_output\"\n",
    "\n",
    "for path, subdirs, files in os.walk(root):\n",
    "    for name in files:\n",
    "        if name.endswith(\".txt\"):\n",
    "            file_path = os.path.join(path, name)\n",
    "            #os.remove(file_path)"
   ]
  }
 ],
 "metadata": {
  "kernelspec": {
   "display_name": "Python 3 (ipykernel)",
   "language": "python",
   "name": "python3"
  },
  "language_info": {
   "codemirror_mode": {
    "name": "ipython",
    "version": 3
   },
   "file_extension": ".py",
   "mimetype": "text/x-python",
   "name": "python",
   "nbconvert_exporter": "python",
   "pygments_lexer": "ipython3",
   "version": "3.9.18"
  }
 },
 "nbformat": 4,
 "nbformat_minor": 5
}
